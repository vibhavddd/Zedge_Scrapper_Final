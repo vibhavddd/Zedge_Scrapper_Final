{
 "cells": [
  {
   "cell_type": "code",
   "execution_count": 2,
   "metadata": {},
   "outputs": [],
   "source": [
    "from selenium import webdriver\n",
    "import os\n",
    "import urllib\n",
    "import urllib.request\n",
    "\n",
    "import requests\n",
    "import matplotlib.pyplot as plt\n",
    "\n",
    "from selenium.webdriver.common.keys import Keys\n",
    "import time\n",
    "import openpyxl\n",
    "from pathlib import Path\n",
    "import time\n"
   ]
  },
  {
   "cell_type": "code",
   "execution_count": 3,
   "metadata": {},
   "outputs": [
    {
     "name": "stdout",
     "output_type": "stream",
     "text": [
      "enter number to be extracted:100\n",
      "1\n",
      "2\n",
      "3\n",
      "4\n",
      "5\n"
     ]
    }
   ],
   "source": [
    "CO = webdriver.ChromeOptions()\n",
    "CO.add_experimental_option('useAutomationExtension', False)\n",
    "CO.add_argument('--ignore-certificate-errors')\n",
    "CO.add_argument('--start-maximized')\n",
    "wd = webdriver.Chrome(options=CO)\n",
    "wd.get(\"https://www.zedge.net/wallpapers\")\n",
    "x = int(input(\"enter number to be extracted:\"))\n",
    "time.sleep(2)\n",
    "clicks = wd.find_element_by_xpath(\"//*[@id='app-root']/div[4]/div/div/div[3]/button\")\n",
    "i = 0\n",
    "while i < x//18 :\n",
    "    clicks.click()\n",
    "    time.sleep(5)\n",
    "    i += 1\n",
    "    print(i)\n",
    "\n",
    "#pop = wd.find_element_by_xpath(\"/html/body/div[1]/div[5]/div/span[1]/svg\")\n",
    "\n",
    "#op.click()\n",
    "#time.sleep(5)\n",
    "\n",
    "# src = wd.find_element_by_xpath(\"/html/body/div/div[2]/div/section[2]/div/div[1]/div/a[3]/img\")#here it is clicking on the language which is hindi currently\n",
    "# src.click()\n",
    "# time.sleep(10)\n",
    "# wall = wd.find_element_by_xpath(\"/html/body/div[1]/div[4]/div/div/div[1]/div/a[2]\")#here it is clicking on the language which is hindi currently\n",
    "# wall.click()\n",
    "sub = wd.find_elements_by_tag_name('a')\n",
    "#print(sub)\n",
    "url = []\n",
    "for i in sub:\n",
    "        src = i.get_attribute('href')     #taking the src from img tag \n",
    "        #try: #try and except blog \n",
    "        if src != None :\n",
    "            src  = str(src)\n",
    "            if src[0:31] ==  \"https://www.zedge.net/wallpaper\" and len(src) > 33:\n",
    "                url.append(src)\n",
    "        else:\n",
    "            raise TypeError\n",
    "        #except Exception as e:            \n",
    "                #count+=1"
   ]
  },
  {
   "cell_type": "code",
   "execution_count": null,
   "metadata": {},
   "outputs": [],
   "source": []
  },
  {
   "cell_type": "code",
   "execution_count": 4,
   "metadata": {},
   "outputs": [
    {
     "name": "stdout",
     "output_type": "stream",
     "text": [
      "https://fsb.zobj.net/crop.php?r=oKPydnI8F1DFZHcPQSPmaylopHBmQF_uemJCWcl17ILql7h1UiC7BTWwQYP1ACnNinufb_k9m9laSvFV1Q7UrvliHN_4ryJiYHfJ9cXBL16QJywC7l0PYzEM0-jdDpuE0B4i5CkY39Ke544YgMS86qNgAKyGHje2Q8Aku0jnv17PATprf-uM3EsklbJjqb4Nzf51iJ3OO8KT5D-f\n",
      "https://fsa.zobj.net/crop.php?r=QmPCgvOYDDxdK5os1IDcK7qMoVPdfVgIYp3er1NSWkN6mVGckA_nhiIINqnZpiOJRUXEFidEdeiV6Xdgpp6ZQHmpxAQYTdQ33IWSeftDaVFbYqX5qX4hSHwOSAIKehANzWj5Cx2p27Z_o-cv_jC-aQSP0fbyyLFfirpO3x2e0OWex1beDO38pw_DrNrbp_C3CUYgYTUKh1N8lql3\n",
      "https://fsb.zobj.net/crop.php?r=Xhs18twaPGfjszKQfUatiOpEN0NZ_PHQKuazv0hZruYTfHiakfvV8YRbNjE-eyVbPlU1Ma8JlAYxi74yHNx56oG6slPulgaz4-m2NMemb5daGxtXnK0riEr3zkpsob2UUR7JhB4LX8Y6cAuaGPGQ6WJxx5m_QN0sUPJsP6zdMqrVQKmOAmTbtkaYKeij28UkABhkupSp9kxDPoVv\n",
      "https://fsa.zobj.net/crop.php?r=u0NN34GZT-RpAJbm7pz5II350naS2iWJwZ5yz6ZYaeymEDFKTno1GiBuG_eT21_lRZBk1aJPEKmuiF1SVbqiT-KTwczgg1p1ZNcvEGTVB6K6kZy3Cr4uefLxK6AuQQ04t6KnM7zl3lmvn0wiQaHNzz6rkqqK3e3ojHVMWdb51mGtlkt1cEYGx1ZC7bOvnyFWMXHLIUx4HiajVAvC\n",
      "https://fsa.zobj.net/crop.php?r=2Y3jAoAWjpxPApvbif7JJWBWoqcUvqewFrgG6IJCnJ-L_ouFQQ8C2Oiq24IWVxQhvz9ZT6vX-B5f5S9ddEqoZkFds8tR8lhzbOaIZxjArTEykFi0vdRzqsCwRRzK5gO6W0LNaTPE1OdZUWDeCteJNwNJpoWq8ofYr4oAgmCXTwkXTFo59f2hTBad0ysSQFz9MuWDO1XIjOgyFoOR\n",
      "https://fsa.zobj.net/crop.php?r=wyX-8PBk2KsrWdFD2FxiccYGN-b77q-JiSOuhcfjRDtfcN3VcKPIEakIV1PP1usFvA91N34q6IGAHSj-yMg0EPx0O9dVFTEAjUYeZdEu2DerEe5hNDuI-L6RS7xcgI9gmduS0cQStiSvL6nEcFTl1cOb4SnaVzByOxSsx1i81h2SfqpZOAwfSmqRh-j57Z8qERWbJUinQ0Z4WNJt\n",
      "https://fsb.zobj.net/crop.php?r=zVNny-k8m11hDIuq5gA46OK53fPMxIYw_lp0gSIBjIzqqnUMb7HGRtBtSScYB3TAyrJFp7iMKaHlRrCY6wR9xZeDUtmhYa7pisA2kRUrvCfEw2HOdrLgvkniJzxCbxcLToLX6RHXE2VD88fkFQG7xn-oJqkUelG1FxGDVxyyu37rCLHFJwRMIgXkDud7h2uuHM4mAXb6ez97F8x-\n",
      "https://fsa.zobj.net/crop.php?r=pIrOlB1kKZHPO_C7s51M1IjcIe8jG5yipdsfYfrp6uwHNpbljp0t4W5RJoh-UpH8Q2D2qOozddikiOV1oi2fFJ9NAH3CXQRfEil8z_NmzZrdAsyM12FUzqNGI_WDJXo0gk1He-goltldjcR6_UOKKT_pXgOMCAvpZcBoXzc1HUAyo4KycZX6k_j0Mh6WF5hsAIaCnZDycMk2D0F_\n",
      "https://fsb.zobj.net/crop.php?r=wBJ3PW4zSxeIyw-uXoAaILkDrt1HAexHunKvDTRB1YnWySMM2Aj5N6IqCkyDAFbxeVkfqyBJHMykZJpVHNvmHse_5bpVSKsFRrXN05gOcJhIB9NjVTihJ5OfqKXod52xd-Qb5n2PRs8MAogGosIVy290diaH_sgVaVQ4qZLEe1k7Nl2lt0nfiz6V1PGzsqSi0Rgww06slIa5wz0e\n",
      "https://fsa.zobj.net/crop.php?r=wM9MCqzLdjuPXw_pBIAS_3W0DGTIsLk8SJF0jF5pnlG3TNAEm-Kj1Jt72GS4qwyI23jFTyiY2X0wbuwKmit2v0IkF-C_nuwMRuVq-nAncG_dRsDSYxu2XbKHsiUAfKVa1ej3ynP6IpVQC2NHZCpExSqWLG1wbc2LgVF6ZSf79zUF3uRNjg8we3QtU-haCL5yVXNT_vvGbJGnp4Ix\n",
      "https://fsb.zobj.net/crop.php?r=LAf32ySFLgtTcy9GoVMnFUUb3cu6seNVPtJ-1OrM3WlIBM7hrCD-uzXdeZ_rCBuTeEvJmlATK4ck_TsAeQnB-AZBaAxVLwptUPjo5kAWXaFWqkkxIV6q3gEzWGjkRFMucIMXSUx5D3VdO0W2lIDP4IXDlxdM1GnakqEuuPRJPgORGDRtsxf2fdhm_SpTZqKfxnobASVMpLfRC1W9\n",
      "https://fsb.zobj.net/crop.php?r=Hw7VJzgNf6J2fm5jtZcLe1DFkoDbxhIuPbFreVWRW-QPFz3jEBNMXtvhjTP08s50RKGLoAoNr0n-Z0Jd3ig_uLnRGWlxG9KfIR_8mGuvZ67HFCGinvmDcnVIk0O2FDXtPTTPw_Zeg2OmwLIAhnArpD0iUQGZgseU5xDvPu9jAgzKZQlNPp68Fl2SJw_UyAsh7M1MY34Uu93EOPya\n",
      "https://fsa.zobj.net/crop.php?r=tSURcZ2538IUMnPxjd4TrMZL57tLFAa4woWuMsIwfxB05tyxbINlMxJg7lfOTjVyh2-S81nXtDFyj25LfQdK57BXw4ySrfoEnByYv0nYrEV1NpSDROqD-tdQ7aCrZ7QGWZvEAPnU4qmGExtsoeudOQ2x7A9xxyLPcYzoaW3YT4dRdarY7iJciJ7jtMz0j__ZkLon-yLtV6mGeVs9\n",
      "https://fsa.zobj.net/crop.php?r=TyE1Pf_aCgMMV2i4XCKqXdQEd_IkKiORq0u0Ec0bd_Ocig4Tf8mqU_58fx55D-dBdVCmArO2o2GAJTvGZkNW-KAdLXhY_ThIxKMpEx5LSdGT5ybuGpHorYST8m2-pL652OjIwSL1l1EhzggjGKcHVy3nzVXOSh90v-sAOYKsiTJgfJJmDKWssQDtrGiVhurHD_f7OuonoVJAZF5r\n",
      "https://fsb.zobj.net/crop.php?r=jgQE0EvTB059lF-NHRHS6Ca0yvXjNmja-mwWnbam6Ta94BgFkk0HUU0R8doAQdw6k4j4-6z2GgrYGxQSgtiPKcVluI9a31Wb3LLyrjZADJ4_2MMoNA3cJJ7F7URDYl4bhMcemnyMZtUfKNsoPzf-SQJ95a0NETPJt9Jte6yFvq1tNLZCoLZffRrxsx0m9C_UuYuErtOr9GUiaDoh\n",
      "https://fsb.zobj.net/crop.php?r=s1J7ErPTpzvLuJ6QRemJL8X6XuJo8IbV9wGtIaYtPuEV02s3a05rU9HA1BwN3bIQyl-T8nffgiAKm5eQs1-dxU4nwJ0GBQ-97HhwZJ13MH6H6NTkFFHbikfWCSZT-K0dLs-MPnllOyQj-Lnsd1wBACVgifed9cUhD5Brz4oRV9QORwFjmb3QelwUXqIzJbt-mQoS3IjOcoj2GHTw\n",
      "https://fsb.zobj.net/crop.php?r=3J1v5yOFsxp0KWWt3bg_i4GTUKTDfD7Zr18NkW2xPUKrWwiAEVxyOR-kIz2i6u1K92orFC0iZgP3OvFAhS6nm1y6XOrIe1epRPyuLsxUV_DhliutT5-6pNWfrsD_CqCo6mNfVMsyvo22vY-dvX0q1qwW9CrciR1RSL5I5R7DEweBg2klz-oCRH_CDFmXBtCRqd_sdRHKO-JhZ_o0\n",
      "https://fsb.zobj.net/crop.php?r=pPz0xzZlCklVoGDxzBwpS3vte0rpias-xhUL_qpBN36d6nvmlPh6Zf6pjj8oBADofl4s0jTtxzmzIOJx16v80M5YopCPsyiTkX49XklAojqYiKoNKTZsMKGp0QTe6W4ROMWPzhq9JZB5aavph3qtc3W1tpq5nXkeuWo7zvZw0UhmNLPW-P6GquIUuOC_HHqktC-DJWSBjOO4NG28\n",
      "https://fsa.zobj.net/crop.php?r=bd0SH6F4q7nW2Q2COf5zVtRvs0QNtr0HUVMxO91N4C1ItzI-2DILD_XnCG4g7qFKnN8dlJ1eHbMllerLw_b2b844M1BJJNSrMuK2eOOFryUhnQgT7Lxd6cIIi0VBVj1zLBzWe7EJu9LTqZGYJbR1pbGicNEilVGqzLDjh7avkNfr431vImShSg_uzWDlgbv9hqHgNGuSqHuT9Her\n",
      "https://fsa.zobj.net/crop.php?r=MLLNXYlTq3fC0s80paa5S7CM6YY1quavR89jGrJ_bHOYyE6qgqtWcTGrehgMVtssyBbAHfMmnZa3uW9KI8vjO70Pvh8tKvCPNaGpF8A-jGP_QBxR7Tt1w40rM-DY54u1etzGp4NW_PpBYGnxyK7LgLNzv_VRPkbP0Pq_YDbqACf2d1P-RoX7q0WAnCqOoSxF8JOn4lfOGdZ8Sl0h\n",
      "https://fsa.zobj.net/crop.php?r=xJ0-r46DA0fOc6PliOjJ4oo-3yuzYIvY65UJ0Hqhffrqv-ngwPhFLSbm5KyV4nYpomF_XQ_VtYHXJcsW91lFE7HjGZWyOTekjDBHq00-lWErQtc2E4KBtIp2HYh5oXk4SaubDpyNpacbq4rLCrG60x6cl3tiGGlDK2GgryGWvTI_TkqBMrE0vsDL5weWlTAmu_5FHkKrvi0OfURP\n",
      "https://fsa.zobj.net/crop.php?r=MLLNXYlTq3fC0s80paa5S7CM6YY1quavR89jGrJ_bHOYyE6qgqtWcTGrehgMVtssyBbAHfMmnZa3uW9KI8vjO70Pvh8tKvCPNaGpF8A-jGP_QBxR7Tt1w40rM-DY54u1etzGp4NW_PpBYGnxyK7LgLNzv_VRPkbP0Pq_YDbqACf2d1P-RoX7q0WAnCqOoSxF8JOn4lfOGdZ8Sl0h\n",
      "https://fsa.zobj.net/crop.php?r=xJ0-r46DA0fOc6PliOjJ4oo-3yuzYIvY65UJ0Hqhffrqv-ngwPhFLSbm5KyV4nYpomF_XQ_VtYHXJcsW91lFE7HjGZWyOTekjDBHq00-lWErQtc2E4KBtIp2HYh5oXk4SaubDpyNpacbq4rLCrG60x6cl3tiGGlDK2GgryGWvTI_TkqBMrE0vsDL5weWlTAmu_5FHkKrvi0OfURP\n",
      "https://fsa.zobj.net/crop.php?r=nPEmU-vQw52hCRHUFLOlIKaJ21YZguBZZIykUTrXGSz8-TwBEmA6nSleAmEtOajTOPDfH9tA665o1C1yR1IVnXxd7nVQ7o_IepQG_bzfSmF8mWDHFWgVUpiJQKB8vLWp51eWTFt2-RPsHv0WOB6MkDu60k3Sf2Zo5cLbmVymMlQ1wBubK0oDi4qQChakgVb0gzWv4Z6IK9j69PQN\n",
      "https://fsa.zobj.net/crop.php?r=kP19Vzo-ylc6YHsV1Z9LT6JVqi7WpJhdB81nFmJu1fLmRE_5acvhDR-zSsX-k4ZUs5owgQvjvRTrIGrEuWWEgbX08lMTEflKY1SfLklC5pyYXAQSnkdWIvtg7fdNMFSX7KxCJ8TdQjGdtZQ86uWFc-XSYAoVibUV8s3aTX38josnV7LDMioELphS3MLc3D9vo6V5NSHhJBvo3wEX\n",
      "https://fsa.zobj.net/crop.php?r=NbbkRwx--I_k0kuFNZZBGwnoFAyGDyASwXAXLyRe8t5gmAqcw2XwjUDMt74K9Q1bNruCc6fhzqEco0eLpjCkVS87bFNdof5YfxKqllgY1Z8RSGK9AdquvdbsyXu4gBQTdNeDHA7oqixRIoWsrmsPnv9zRnOTzri2rghgNsMh2s-7qkefV6jCNoqXootb8DidbEVX65Zk770RGMLD\n",
      "https://fsb.zobj.net/crop.php?r=BbZW-t4zun_k1dxJchMi7jbKrFGr6bOvDm43AQXR8vTLMsG7rNMDd8ds-vW509RAJe3WP9p1XxbVZlKVELGwPxu6czZi8XtehoHN8AAY3WiyhKc02GoXJMa1Z90wxuKc1MscsbmlgBlLpCFEQAJ_4Ao5fJSGOkxxqMIc-gly8HEkzCo8YUiJY1ky0ta7ap091w5QTrmg4YFOgWNn\n",
      "https://fsa.zobj.net/crop.php?r=P_WDDQv6fLsrD_jbZmFEkPeYq_tnCET_M3jSEp_0SfaPvfFLXZT7eD-VZoWd2xi_49a4NH2GnIeK5x4ZxkiD_8oYUF3ejrMYyL5Cz3XpO_xW4jUKdA2uhQnEhRjKlFTtAzwhvzy95-OGYb3b_E9-4cx-ewEx6rDCQyUhfM2Q4jAUpaGEVvNTKhaNN9e386BoDUHKVqZQDH6b8Eb-\n",
      "https://fsa.zobj.net/crop.php?r=-7i8_tGkkudzny5sPNh7WyKzd4GegMCybAnfweBMWISMunX1bnEX-6MHu3rHxlrOa4gbqnIBYWuCsHTybfMgAOY8ZWM7vCmAxbLLeYEfEDvfHI0WpBc8GbDoxEkEEvUP4pqZ2lYc93PEf1E5hus-3yA6OgVmEM5oiIiusl95OVsnqWIvg3Bpp8QbmRwVvt2sj7P28Y2tu2RqzvnP\n",
      "https://fsa.zobj.net/crop.php?r=Qo5eZ-crKkNJIyPLVyIIGMK5QXJDIXxWDCqbxucdqnV2S5QpH6yQKo8E8IT67VN63WrBV3wEDmaftwLjx9WuWM1IiJwtoq9nRTmRNGChEHzv-4KjZntAfV7berCZEfV0PjBBdn2uDHiCv2jcmXlEe3VnDVnPLZCWKPRkHIzAdg4xI4jF5c8GNoO6pQB2cb9p63tk3bJy6W0yPtGF\n",
      "https://fsa.zobj.net/crop.php?r=vCzdSBgryhwI5WwuTx9w1aDP0c9gqpcSqKa9Wf4kvRj25ob128rSGqvPDpO7BT12HCkAB1x4ifAEOcD4FzXLFm8QZAvLQAdrUM4M1Sl2cQ6nkh8tdL9vx4lJ3-WmBo_Paya7J-FvIAhDl_gzctEe1Kni2ViccQE3OS_oPYvVhVw8DKcctPIgoFNzeFVy-v5JFU9FL1ptAdG1XHbA\n",
      "https://fsa.zobj.net/crop.php?r=wuLC08I4NMZKhHGjtXNjFsTfb7aIpSJs9ludTb2IBy3nXVHzvmuQhccVi9llLwZq_Rzt9X-Ufm8ECmYiT0W_0NEo_E_b3pd4FAbTzUOIyVb2bijU1Z3GFg-DPzgsBq6X2XKWESiGT0gFuOfmWEYCe3TRO-Bdq0J9nJsJSRJN88AWBI4ylQrm9cIaVDMBtAy4jFHC6h5QOOHbGRuF\n",
      "https://fsa.zobj.net/crop.php?r=hkH_3X-AsDCyo0nR3Xn2exgAIRMCvBWHzAm7ASBioxXpw89ZVJqX6Ut1ZcrZRxckRDcvIEUpbQF9lnrO2Vcx1RP6lZuOVj6ptcCrVEBGuPClkzpakUhD9cVWpVraLfYoeB9sW86YbdabJfXSgkfHHtHGGaUs-4RvLiAPimyEiVmmz_sTQjS8gDluUdM\n",
      "https://fsa.zobj.net/crop.php?r=Ajf-wUAjauVGyqQnU2d2yT0ss1jR_bf1c-9jKmP8ZSVvThFBOFt3OmJnVRzlgZdfIH1kmH3W6x3QEEyC725U9PqyrnLo0JTNUVYNqwqKp4t9dbN9gT_VQTV7H-xBKZZgzn8Rysm6gidB-5QMdjO2FjIxTzuWdxFCR-Fu3w9qxFuO-cWNR7Z0spMJ253aPBpVgbWngDq1Fnb_HvSX\n",
      "https://fsa.zobj.net/crop.php?r=cKW9P8YaJZ_SdooXut7eWkbxPu5LHn3KkyvCWHTBrM0HORng9i51bDO9gZCJxQqWF88qLMDcGRG8SGLD8C1jB_RNfLLS-T9n_3zc66GYzGwWWPD-99BZVqNyFThW2VuzN9rq1DxenySWH3bN1Cm_lMA1nr1XUg-ao_mWT2lfMpBJH6AI-h8htA0wx6kW8bc-p3XdSQfiEypg8z_e\n"
     ]
    },
    {
     "name": "stdout",
     "output_type": "stream",
     "text": [
      "https://fsa.zobj.net/crop.php?r=B6q01IIss2JdvRVNsGW2IGEfTvDnOOM8uNXe3k90P_23olB8ZDxYdc4Pl-pgIAsS5dI9cY0H36q3GcGAppd4bVhYLsk4LZwxkW2mFd6EUPdAyVOCELkcRNfziArvWe3JKnyG-klCPp8hyl3oPDwXfZ3Hyn8jRpDg0xyYCTREm-raXjpNLxrRvAmOaXv5IA30bHTLT0onOBoUQWHA\n",
      "https://fsb.zobj.net/crop.php?r=YVQsgPymr5rVCGxQbsRvEWsjUgG02VOkIHvYRtNdtouq1bYfEf99tMcUGoGGw-y8PjYxZYMf77wiExmy_-e1sj6cFZTW9FN6Y16_2IpNy8IMXXbLrPOicbaBA4MHm6dVT976Ac1qtQqjL3TFyQ9e-PQZTZiniugcHTbNsfgJr2k2c25gqRuirVW3peeVUj86wdzvdeZohzJzDB94\n",
      "https://fsa.zobj.net/crop.php?r=EdXlVE0kGmjbEB6AhUM7syEgykR6p2DRRQWsH74MSxlTuUEE6l_UH_TboH6uNNtsvpKlj2RLG6DBjasH-pE9c9X1ntJ-ijelCngG4zXArcHwb4Qita3Eg7rTxDeHEFbnAQdz_aGntTK5XeJL9ejnCklo6scwSjSbaZITgxsUTCPWdcroG_uAVkMkmKHPDheJKrykx21GfyUfJ35H\n",
      "https://fsb.zobj.net/crop.php?r=tO2-cb67vVP7bNyJ5jtvztzdqAFGrz-PLO8xqJVK5mBhTACHkw5I_ZguPAEOnLifiHmGLuKyWlvSJFwNHR77WkFdwL7_1lS8DHuefzhGsQQjUPM8AlIX0YwN-JW5oqyN5YJ7R9DFaDtHp_aCkOxpUb_bKF9_6t_KQ7SvSLANvaCtan_ntnlD6r8mqRnEzcwRked4hyng3XNi2iaR\n",
      "https://fsa.zobj.net/crop.php?r=jCxyX1MdFlf8r19ig90axpLi1zAV8HvqGLd2Hrp7dYa0_bqv_98UQNk-Rft2yfAYqEybEwI504EsZ0co3x4JlnujRzWx3An0rEf_sao8g42d4QGxX6GNGed6PVWZkOMc0Zc7j6uRJoY-7_BM4Vr6NoQQBkSSAjrmmiSPKSpJ18S0uQ7SRhdsj_aKkelA40KET2LOxzSoFkAEyqA0\n",
      "https://fsb.zobj.net/crop.php?r=s5N-KrSrmoocSjkNvqKcOISnQa7EReogiMvGUz0RRu7DyB7oonXdn3-_cVtDuPq2uY9Y-304CivqB0CmNW4rhlAAFH-2dE6Y-Q7MOFQhQnz9cx9Ci_tzl5SHJFnA69gInzclOJLmFJCOJarQfwEEPa594HM6F8QTREox8U2sGPBUAH_adK0RY4LWJV0S3Km3lNTPZLKrbtbD-5io\n",
      "https://fsa.zobj.net/crop.php?r=a5Jbx1Dr1Hw3EyfMTC2sR-U_Sy5aSUpESCi6u2Ez72MShc87HrXVwfnSpBKbYp2dMJBevyvpfr6ewC8yExlmqr-T2G2snsu67Ju0gtYbaXdoHN2rQgd2f1sCyVPQNArlv800qeEpXmwiM2ZKfbUTZn-6ALKpRqJeQsx9NXKk0S9eBm4hu81OiDjw47Ge4-YLYLcX2BGNBDpXMIoI\n",
      "https://fsb.zobj.net/crop.php?r=SgreEoDVsey-MW-PBJWLpfBJwWmvvaTjUa3E6AEBzbmhMiz-o1CUHDV6k1ro_58jbURua0PJEW66q6kZekscACgct_s5gRl9N_-okFxG29DV6DMSd3vOU_mZTNBwpcc5IbSr87DAhSdEu8rPRKnmlwBE5Ag8a85KOmnDBO_PtymWQ6KDdFi8qIvAeLreFltrvGccAexhEgDLfgin\n",
      "https://fsb.zobj.net/crop.php?r=myGhsge0NLFF4Q_XmmgHzLz25TT3Wm0-CwMIkIAPqzQq8MnX1DB_fcUjoAHB19jjmKBlXo4FfGIXxytfUSF0ShorwcyrT8rDzKu9NnYPdJulUibK-GGx0lKS4X_WouEW8RgKqTyM9hiXDHbYBEyxtPMKyIXAxBtdin3qrzwUJ5ch-PZK6KL0yJ07k6mW3H9LCdNGL4TnDSLm4Hje\n",
      "https://fsa.zobj.net/crop.php?r=cJV7hPLT-GDICcT1NUpbbZVB8hXoKUU_2SRU-0FgquL3sc6xpZhCUh4_5NuHetx06xz4Pn5Ayk34C59U1KvoSFrTOVNNzg8Ea-U7B_kS_eIxJrdbExVOxCETOyxXgB-CgnuVON05IhWuPHINYH5gDgzxXZmdBllSWjU8qmsKep8vGWhMOb5yqxBbVWbuO1e2RmN6wcqr2lhXEQjp\n",
      "https://fsb.zobj.net/crop.php?r=uEoRVn4Oif8GeI-9mIPwCeUc10x4XfppKvd72F3RlNCgMpDFYFEQUWLgmfNgdZlBKyCZHGlPvYF_9MeRTN3p5J6EuWNzVzC6oi-ytIuwOLxS8itvHnncJrT_lycDH3bg3QfsvMUHmjA9OQpMI9xPpLEgCplC8LzQo606GhkU-o-dAQvVItJepccTY8lqWDMwzAZL1epokhiWh8JR\n",
      "https://fsb.zobj.net/crop.php?r=9lmgOWXGJjzm3TuU5VYaO_mS0fJj91mW02tQBr-zt8_tMDZmG0oPeNYy9PAvDvNFYluUj0urH4gcLsOYoQ44LNzvHqMrxZg4Ifu9i7TantIWsF7fkcIK6CVXFyqMrzaxhlpK-VRfO5GLhTxqE629ICGzkVeWPcEQHrfladI_ZfZMXxU6RG3n__MDBcOOrGMnLrZD3QZ6NA4L_l5L\n",
      "https://fsa.zobj.net/crop.php?r=Q1kfvTB53W00kQMhnS_mmjSS6ow92PtV_JIyBEvf1nhb1fi_4qnYgUFdEZadz0-z_gFOVlHreJfNRq1DTtLDFznaTzM0TLXI2QX4j8XyGSW6J0oWqS-wdFNOpuiWH5OLEQqdyQiv9aGx4K56iSv7LgHZwecWjQIu2SP9iiTGc2EyCVe5DBFJZYphd7kbZ47JnBqQ4yp4YHsviaRB\n",
      "https://fsa.zobj.net/crop.php?r=taBgWPZN7QT4-MEOENoe3ZCx2ZyCy0oCfGD7H7wOxjjbqeg6sxHeUcJUR51Foir4i5JRK3hWFwsZTSPiSZ1GyiLlcXX8PvFz6YUtPhoxwTNFM5AAUzzrovQz-iJwP52ErXmBI13iMnWsfJ3Ri-Sue76pElXE3YOt4fvRdvFUmbpxf-QhIJED-mzr_-nYf_ApgidJhsaOQ2rcxZ9k\n",
      "https://fsa.zobj.net/crop.php?r=evDOzKeBiEgKmwr260mscxs26DAfxDDVLYb7rDtUi53cqzxEczUsHMl8MDsNZNG3gWPyoxoW_8NKSTEGPoIgz3gaEpK-W0smTe0NmogYFQdyhaYcNUfr_oRfku7vhXIGsizxcPVXs6BEScroqlmF8DjQqURZQ2qloRkJ375wGjQMTyyc4oOAqXanradu3BXA1CHy6sbmHB7aSEmv\n",
      "https://fsa.zobj.net/crop.php?r=3wsaO3rbudmy8LOP7IZTl-9xZRx0ORfdiKYKD1vUXEiuMyOvA2Lmqf_-m34yX5q66XEYU8Pd_D-N0DS9eMA8lNEh8hKNldcFr9Mt0cKZExjnv1N8qodjnpUNoPitikoqxqIqQPkRBmHad8TUPgZ9gRf7P6Nm6SVM6t13hKVcbHUW05Z6kqdk3VKXqPDcqYLvlIQVo9kRTfDzrfx-\n",
      "https://fsa.zobj.net/crop.php?r=BUjNcLlwDvs7GFNSMzP6-DFzUIFxcQiksO7_17L5rD2nvMHUNezNe7y1RWXgno1v5udEKvXsuZyO3_9UQHilcr1wjLKAEivm7y5h3Ya1ubnB2db4O5oy4uS57bmR_-NTTsLHsfWi7E2Pn34D3q0zyyGeWP0GSK4WABFP4aQYZE59h9MIHq_Z8afvxMA8ujS5Qf_XU_CgqfsvUYUh\n",
      "https://fsb.zobj.net/crop.php?r=yZIGKAsNmlLDbwH1gIcRRzCboeuDiSNrxm4rgywj89v9JrFVgcsRxe03LLmY3vsj8zG1qHYmrdwvxvlUzSAq2UcyMJ2kGq8fQuVqojWuDAVEJrYzStIYMa143l9-UKUKFsdnYfLy2nJ39dQ9lAnVeaTapLmU_AP5k5PpEeWG7ncjw7ZpKRpkTopK8nOiKorG2MuG8dRsakI6bQvb\n",
      "https://fsb.zobj.net/crop.php?r=9fm-R13TBmwxM5BZTnct8sSzziYV-wp-jVJ6Km4IUuXSRgwo2h3uEMVUPpkaoH9vuWqIyDdOyAsAOCntjRpTME-pYY0DWhLfYdM-a5teaozIwXlCDlkf2fnN9kNDjmF4VntoWR-oXxUJpITqES1pQEuM9Lnb-a5U4A6mYX5IjiEcMbJgJI7cQgskSgX4NUXquEFDDLlBAVb50ofu\n",
      "https://fsa.zobj.net/crop.php?r=P915Pel7eZKyHzjhICwV2lABajoS3d6sohqW9ecluaPusa8TQ_pElS1FcmwF5gImEZ_5X4P3tQYj27Nt0S-DJXLQeGm5y9UNVfpCoJhnWhIQfeNy1tQV2tNDu1S3Quov5j6ETF_e0_0SqzHlbcQE54JP-mEqwlmnMLaDbSCBfhEyOgZ7TDECbONu5gnRVrQOOFNjqfeitsDzSbB7\n",
      "https://fsa.zobj.net/crop.php?r=MiCXKgotOTNlgStoKxJFR26786THUL7Do-A_SpzsBnBd82gjACy5tN6QVGDA1tEQHQ9gldfXLQXbfg1NxQamutpnymVQOOguFvzlc0AD2FxCj8FkjWZmzEAqUchvB9Ww9BW5dflFXSHCj4gdqFp3uk3eXPzVQiODKgUz0QgeMqbT4Fl-wdbyjnH6Ktd-zOAB7eZ1u1f1kqaZHgvC\n",
      "https://fsb.zobj.net/crop.php?r=lJXdYmrEwUcV64L2OC3IqC3e4_yunNL3Kdh72y4zxW_dW0aVAN21d0x7ovkt8KMh77GgRTZj-JKWRwqO_6P5geGi5MBW0-U9RDc88WwDUOFpHrQOYULCjUiJ6kpkUgoM-OgZYz1YIxpXzWMVY26bYmYfm4PaB7egSn-WTFb0enfTn09YTB-vRZpsmzOWUrw1Wuy_SFBoL01R95fl\n",
      "https://fsb.zobj.net/crop.php?r=FZdbklNjpJB6lS-7sKZI3oZu19BGg2aJiM3Xed_RNBh4pnoOyWuklZrpai67LTtQT-YLYBiBJ7CIL78BuSghMSdV1CzkIyeDt5DZYXDUFLzAx4dH14ofZFgvMOQ1kzcFhgLki4RVv0c5DqXOCR6vx-vkcWNArtF59bZcudiiap2iPDoQceyurETwToILfeJI5gsawoWQXOUKwPla\n",
      "https://fsb.zobj.net/crop.php?r=_21iYnib-XD_FrfRMKNcfDceqXa4WKvRUcnb2eGbgoO23kcnhPz4RH_m5gNjJgnazS6YW5dxyHzz4SlvCkJXWbstVi5wApl2c-pB4cQBpxgTk924a5HHoXwJ5BIfVyo_L6o9AmMo1vCYJ-KyCPRV4B144MkByq6cAdB4Rzvijg7ey9j2nP0oDz881UIFT5_GT7ABdUpjDpZ9Tq08\n",
      "https://fsb.zobj.net/crop.php?r=5So09hgjG9zQiNCDS_OoUo___ePeL1bFxBPXKMmBDVCMDTEL6sZCZF6j96oX2wAoQmC3HeDCHYUIAGJ9nmm-9vZPnA5squmyZlGVHWwp9PQUe360CaEtGTLOLUHAU8Y_5YMMsVaf1cTIY2gs6Pvi9Is_fRQpU4XXyYsug8_B4kmA49DNw-9E4aIAHEayhhowRrKsm_q4aQRqlX4q\n",
      "https://fsb.zobj.net/crop.php?r=awV5wtB1nyBfrD1cJYmpWvUT7vRyRj_jFyyUeizSI0OrzCbf3zDMcvooVJUAC2gKDYJOOyeLsqjhUsKXC7aBZWbioD08poZq2c5LNfe3YU1kHwALtMXFN1g6oymFtnVF94HCyK1kWFStp3t-wUwWp5WF5V1w1rYioNFFLdlhdKc-O4FrLVC3taYd6o8jH7BX9JmIkQStK_GxMHQF\n",
      "https://fsb.zobj.net/crop.php?r=Rx5lBX5WFD5CRhSTbtULiZNPoAEixluY1KI_HYov_CrMPgb_6e_PS5s4su9LgNqKDMd_QH9pzEIAZgnnzGYUxvarz6gocZjPcNBabhcWOcNa4UHIkKSzGCjRadnFK039kGBqCPr3JeuyCaNXMrF4gzXgkDXHRyFxz2mnr5uHBNfwG98ib1MflsWjJJs0PmFGpFXyvPRmuoncTkch\n",
      "https://fsa.zobj.net/crop.php?r=oyjaDo3EMfONOjyhA_v9vnEUo55Gnq9CtbqS2sgyoyD4vNaeWkh-3kDwo_tpPbi_ooOlGCsdj6Sfpj_YAxyNZb7Osg67k4QK1GDT6Te_aDMUHJDOjVcSkW7pRmtdq1kmJ0X50KvJX7L6pVe9JMHGksx8ljYMBRoGsV3onTOyXc8IBhJ4sOjDHl1kP6TCuyZYeLCpGQ2UN7IO3jrU\n",
      "https://fsb.zobj.net/crop.php?r=6F3fY6HJ7AuwRIXVi0c0CkNwY6J2iM68hOLCAmX10-e2GB_uG1umElVDE2A_P-ENaAnAUhiTVhW1wc8UrKBi8OTKf0JJDFKl87DINoBNlg9ZisIHsLuLKP71eI-U96otHW9KX8eJlT2dyiX6mLPKR3FI3jnOyYZG44mxaO34Xxxtcw3T9aqYXclMlXlWnwvA5tjY6fB0F1BSlJrc\n",
      "https://fsb.zobj.net/crop.php?r=aA0OU-nDLEvGoBWO_EP56aPigt9WZGT2CgSWmI3MySQ1yi9qES-8SC4Apk717Ls1hnHv5ScksaI4VIvl9Ivn4LSqXvZPvUleje7zWb1Ck0e9PKZr-GYb35pQoMSQs-U3oqeW8hi4MKHTsnx6CPqp-KszJEQJYOvfGiBM1otFNDBD4sqk5SzGexOucYN8H2p2D2PlBsVLrp1sLrYh\n",
      "https://fsa.zobj.net/crop.php?r=KFiyuk6H7i3kFSPtgIDCDMgFZBrHUMQubi24XSTLt-axB883HEQ-Db9Pv8knNtoL6XLepvSBvKAvRucle_LK9fv9FB5z4auNjBWKqWtX3_aPYEBjmlaXL2DSSy6Co7reu6cXn3rGqDqg27z0RQCyTcbgqo1pWmZTsHLKLbgtZodu6hz-NvMVJiCENzewojTVL84semBM5xyAhhUz\n",
      "https://fsa.zobj.net/crop.php?r=jYqTFIeiBEh_hnSWe9pycsAUc5s_u8odCVWqz4d5vGASaT8LRTo2wL8MdW22uwiSEZok8NWJl4m5eBhRmyDDsIIHHhb-hSxjxEj7tCmBha7cLFj8cY7pzVkFUfFUL9LOmgyb0WG3T9oUBsjGMtkhR7WnLCyx6yCOcrLEUsIW2gGdjdwYdfN-1m37R50KntvEyXPRp2Ie1fI6z-Qh\n",
      "https://fsa.zobj.net/crop.php?r=6oiK5FHQbFAlXGdPd5CF0OzwR1XU30-xvVRyPq64zCR0uQqIQg5W1UFe6iZi5Z4Dg-oBZokzgDzQa_tO-9luez-q2KQFviMCp2DgyCMV0Rp7dp67oQQFbao_rMSZ1fnfNnoyDGhNwAeCDYZOGJ55td7ApJ3fwWjVZivSMH_nRD0ukjm4BuDw1IkmTUpm78iZ8JQZc6LKgX0oCR22\n",
      "https://fsa.zobj.net/crop.php?r=_dfr9FA3jdMKn2cwfWSxSX5w-oerO1DQwFgjoI9KjX593urFU9iWlt4gLZ9Wa_H9M6aZCJzx7zwvCdnE7ROVbQlzDukOcL9J6_fyKE00o2imsD7s6t_ARvPdGy4DVwnUjbrQi8LUAygH53SdSMMRa-0eeT7iWhI1zIk0WTYdmfxW0OTxxOQI_r7qTkfMtm4P8EtQo6R-vo55hKnm\n"
     ]
    },
    {
     "name": "stdout",
     "output_type": "stream",
     "text": [
      "https://fsb.zobj.net/crop.php?r=UkraJPzd96Qd2EqlbxNLmq_Zxk-B7_VN8bwINBce8HqiSMQ_VJk_ln3ZWaE294bltEqV74KM3iqePDj6mOwJ5oFRSE4_rbeg91LGtY1_j4c-6RRuQcXqTKvXFkK7nufDzREmKpJPdKoGKLqppysJLrbnZnYTK1zFqzm6WBHevnV7P4kjwq4AS898_lORXKrI5pAnC11hBKM70XFf\n",
      "https://fsa.zobj.net/crop.php?r=lXdHQZWCeS0gIdCZIKu_5GbrI9KofezcnNAofVz_oykOZogCeZWZ1EkjccDeHgYGoLKi-0sfUD5SGeDwpXD0FjZfZ6JB2AwQ2Fs2vqhqKFF_aUt5zE4h66Mtn695_-R0QlH8Rl4Qdxp2CyHFaKKSCyIS3eiOp5EYBzGHls_RzOPGoviS5iVf-bfUZkteNSZ4h9QkdBplXIteB4Pw\n",
      "https://fsa.zobj.net/crop.php?r=Re-HAB_cA2xyBNhHXknhOKeufIC7_Gdz3QffW6ZTdEfo3sfjmCaHUj7K8xHX-vIaJRiTQnyAL2fH48ojhVTIJDSP0TOh5Slxr2VFp4wYmARRmjDb39Wo3HazwBPJUAj7yp4pzhu23Ud2l92Ns5rZwfJZd8zmk9KJdBIn1r17NS3zEXT8X9HsFcM0v_S1ngX_J8DmHtBPPWUfkRTO\n",
      "https://fsa.zobj.net/crop.php?r=BYl06WY9jBT97BBrds1nIGp5LHvNUGJdZv8f5f_XiJVzkaTuqTe9UtAU6GoEw3rVaOsx9lD7Pi0OOR3JH1gCbutEdNieKWAuVXYcQAEj8eG-kEySiiGxsqiuLnENSJtP9ass2BNEAvajgPzKz9N8El5ka7O1BGrMjncfCGl3EMr1FjXGDvzVepEUz7VoriLnE7_4JmKMk6kjLQtc\n",
      "https://fsb.zobj.net/crop.php?r=kH7pxLzDWnQw_BLDsSdKnWb6oz4yKvRlmo-3zDU4DY23W8T7UHOM_f1gV7dKvDopnNbfHl4OlAvoppateB025bULLUCiUxVSsAFRfEp60IBLdMHxNYkkzrJgRFzUPMqxpB9cXliBHG5THYyWNKzWlq2zPurfKXksplQCgTlZ3YbaWoXylpu9rUb67JBQw0a1DR9zh-83lQm5Ecw3\n",
      "https://fsb.zobj.net/crop.php?r=n1eySjNCa61rPSg1mbUtCXX6CXFgSFMEE1OThFvPt0yf-ViV8lEYoskdIZM7Y5O9NHdl7T2jWFhQboTfZGJ5-EMgIguemmxsJ-bJ03H4hGKXjyfM-HxPAzbnqSBAKt3sng89Q3xzSwIFqnkh_ubJFwu3f53KYyAOTsimYc6YLUEdvtIOP3YsaSbms1DwBYkBB5dQgFVEgj9rnpEK\n",
      "https://fsb.zobj.net/crop.php?r=NegteWvryGvwfMzTH1dKqg_-Pa4XptLwSFV3Y4HPWe4CXupCjvb72FpIOd1vAtr1WmDqwF-2gPAtlX6e5ReOAUdtsa-rDS9-KVk8S9P1_0WibkJ8fr0HHVgTrGrdGx-kAd3ouz8mCt_MXxJjx9sBWmLTwJ1dVdYrWDP6B7J5sFYtME7HSrWP4RlhGeeebXZ3w2s0jO52hdjySzUO\n",
      "https://fsa.zobj.net/crop.php?r=-b-YJ89g2D0csa0ibS_Ji0hb7H8BjzFnwHLol6UG6P3VNfc6m4_AdhspNisDtPdA1dilAd5XclQlV2ToAIpMYE3hMAJ64sGoBmpNNUCJaPMqpi1sVev7lB6P8K71iTr9PoRaGlECskiC3IPZQ0NbxlZSOdCEl0y_AhCfUYMosIJ4ltk5Apko5cxl-MuoJY3V5Qe3EUPKGH6eErUX\n",
      "https://fsa.zobj.net/crop.php?r=IPfBu6y7QcuL4JAgaUUm6espTBSQhTf1dXfaBWDxTLHhWV6tEqFMfdrDQMgMkYnwrwr8bP17ROMj2AxZnLT-nHMXOLL3gN_BaUvh0RjjsQV7Vka-NIojeKOZ6FHx7FmYhwzaBcpc13GbWwa_otauuFnahPrOtAJwgjQ25xIL6PuByCbY2D8wqulMKUK2rA9q7xgHoORgcREQHrhd\n",
      "https://fsa.zobj.net/crop.php?r=vmpC0i4bB2LonPuOZuzpaV1W9YqUUElTDQ9yQHOUve0xulcFL2fBOw5wIJAlcU8cKtVqjDvYn6YbSL9eH3tktkSi5EiSXJKDFqDGh4eJhCinr3dIy87pu00Ipkt2YttPqWrrm48LqdoqCoxTz6aE2wONNfpZOhC4xRGW1dEjCp9BxYtGhT0pD9RQfJLjvzNFHIr_7zG4x-ATDOfF\n",
      "https://fsb.zobj.net/crop.php?r=7fQRbZiG7lcfGo6VK3nnPxeFh2ajvff02jnEpZhxSiXZ2apZatFW8z32j1ppRtOlvdXHqf0x-SZ4CNdkBjlT2uKcpkQfPBIxbOVwFON4fP9zCFtCN1uqiXSHVeKo8361RDFYUYZlC2Et4mxhzWHi6N_QvGuz2OiDjLWNLuSlDp8O0Fu-bbcPRZvh7_o4-XyqLatwLz8vCdfzcjhF\n",
      "https://fsb.zobj.net/crop.php?r=JoKbbAU5SuDPEk7KN2xYcOv01ZGbp77rmTN-VPFIuwpBkujBz5Y43Jt1lPOVgXsew3ZgjSJMsN1KZCr_N84wXlxBTy3bYtW1vNnkacCVyji7Dl1WsRjg6ME-INb4GCbfSKTfn-ft5RUN1XCdeAptg6-0j3GCo8Ge-kiWpWMUjq8n7RyFHRBW_-P3Ildisv31-pAaGaloZMwy9tEn\n",
      "https://fsb.zobj.net/crop.php?r=TPtcsx1l2GiukF1uN-qZZCpQkj2a8rTxwnGF0er8W2Dj_xEKlyZ-Jt_LyKOShRRsUK-4u_4l2HE76wn6AgtYp9kj0N7Af3HGw8EZxlQ2zEACwaqu8RTVQGKY793AyVVvm8LYdlra0wW3NdiXw_2Z5cWFSaIsSNMEHZ2xX4Bs0dTyzRui4rpvdGB4E98_fAxqcle9CSd2ytqik6FL\n",
      "https://fsb.zobj.net/crop.php?r=jijAB0tqIi2HmH3WwzLEg5Xpj4A4WxAlEsnD73Rf-jfPC8Q-9bviJMaxjDx8TDuRkCBFzxEfLud9jfqFXO2Ru141wq-a4gG01gSEX2Oxo_z-Dq3ugEQC6AQKerI1OC0RibKaByt4QhTDCPOsEHuj5v0wCAskFQIoBsLNOMNs-3kLP1beu6iuHaf9v5Wq7_igEEA9r0e4qPUwaipH\n",
      "https://fsb.zobj.net/crop.php?r=T62OmG3bGRBuVJkJwFB4MMbPbl9mtsPGZELT5w__P4OBw8FzSh4xFSyQ-e4NNo_GhzLbptfn8QuZDTaQMY3KyD-1QcPElv-6VsMAkfyuqqcauoN545rHCgX1A4s4u1L6P6LYSoAfkDQJ2q2WHBMmTOaUR49qk0KN1KwS6VKZaHnwjJBhTcFaJ-tJnEYoHTIBO22ChWt3zgb3hd8o\n",
      "https://fsb.zobj.net/crop.php?r=T62OmG3bGRBuVJkJwFB4MMbPbl9mtsPGZELT5w__P4OBw8FzSh4xFSyQ-e4NNo_GhzLbptfn8QuZDTaQMY3KyD-1QcPElv-6VsMAkfyuqqcauoN545rHCgX1A4s4u1L6P6LYSoAfkDQJ2q2WHBMmTOaUR49qk0KN1KwS6VKZaHnwjJBhTcFaJ-tJnEYoHTIBO22ChWt3zgb3hd8o\n",
      "https://fsa.zobj.net/crop.php?r=JwwS-YRUvc-oGW01YWR2dciHQUNot8LXgZrxd8W5D1jgHmXEjdMasoECxFqO7ge27Gwg8zVBXpDhNvZ92IODSxcLHHd2u0JmIWVCk_gckIuXNKZ3_mKa7dLAZOIAGDACz__8v3X61evdDibOTKSpCHIovhwYn0VAdJbpPFrM7vRWAfvp6k0Orl_3Tjj3SEOuIHRC5h2jaIM6eSnQ\n",
      "https://fsa.zobj.net/crop.php?r=T2Y0FR_1om38uS1PhL-ycTrPY1pZOtxO9dmG4dh9KT9ObRUdFfb1_ROW65bnDCbMDbjdJZlk_LAVVVSo9AMWa5YQxwMYuJshEkL-eLxbFN5oqXMemEe7559BlCQuenxMN3XAfF2IN414616BqqaA0xURF0oUNVtcas39oTv1X4DbaTib1eU1NHbGYjWtxhfSzOYGElqwkm2AnlPb\n",
      "https://fsb.zobj.net/crop.php?r=QEiiTD1Vbu9BZT7ozIAoDV11GoscQN2KzDezDYrITh_unLHB-rcmK80Kd1J8PSk6u3cI0ZLwMLBvyfa06-OPzLn4T3sOUN-zXOUK3E9O7LzKYgVhf9oc40IVGkXqIU7Sc_sQ2Z2NH6R7s9o3T5QQBwrhnT40Cp1wnpoz8soeMrtpltBmNzAN8x7hqQtIrOY71Kfq1WKxa8TZ9Kgt\n",
      "https://fsa.zobj.net/crop.php?r=AHy7qs_ciGJs9VuP-DWR9qC6EASvE7g4BpK8XlxZ7j1koO5hbGVSpUTmBcMQv0ePsPjEM3v42vijsgPErSdPoaiSWsmtG2JK74sGif5SQ0m_n6dDw8BVxIYB6g6LbF72jnlMlVLpfFmu_3MDGRpqZlIWGTPUT8UOmHCJZIF4-1MtuQeOyzUixuW1kppaZ2jEeQxnyZEMFNwMPOrN\n",
      "https://fsb.zobj.net/crop.php?r=OUG70hO6FwnkaLLuO2-e6DO84JomnxTgLHsyS858Cfc5s8HP2S4w8ge28u5w2aEOIbA5E0in0OKuPh1fggdUjYojBdqdd9DNxuOVbb2axKOregsd8I5Jucwpq7bTnktCb3Bmo-qkP67gqnAmGx4K0A_tzZykNwt_lw5CV0U8kPlAd_1isY0mcpHUuNZjrbM10FSgeoSv4PP-p8z_\n",
      "https://fsa.zobj.net/crop.php?r=cU_h5XulkWRFaQSYJ-tjQBoFGZ39tMOAcZfrwmVT_bCaNesJIt1TLuKh0z6BofjcL2sB_BBg8noly5Z1VJ1jDav62_T6NgVaKr7zGpmqzkvQIPfjA3GFx8kDuSaNN2RwoZZ3zv0C7PnXBzvvRdaiSTZwpqMTkCb4B_9p_CwddGIQwxpfMdN1t38_pTFAKcDqsxxtyPJVa5Hvwk7S\n",
      "https://fsa.zobj.net/crop.php?r=T7EtBTd-3FoHgcnaZj-BOVpN7zou5RhHLapB18C44DgAzcc258CtxlOx5hXb6IkB1_p-4_zzCvmq7n4RcWPrGzhzawnqvH106SebA9uOBLXDGe13_VOQqDpC7UWow7UKR830_K-sMMtvGaq3K1GKSROUuBR6FrNZ-YIgWEOsqjE31Vg10AmWGIIZBro875RFu2IGp5R7QUfu_hbn\n",
      "https://fsb.zobj.net/crop.php?r=Z3UnIszG1qUmrtTN9QYVpdW92mkB8NF0tmolrSd8jIhIIwuycLvk4LIsCm5HrSMqhvfK7cOmOvdw_Ok2Hpa8OEGrCFsqvtfMFgYucqf7sEGdGNYRWnIAlZNPED0rV-4HGbZQQFTs1roZT6zBQMSOxP4IR0Fhx13yH0WuxbJB8CMri99-S2qtvbw46vDRcZISBsvmIIgldCDkFEXW\n",
      "https://fsb.zobj.net/crop.php?r=WCq7BxnsdnL42qLev40eCOnmLAHLuOGCG1ZmvygNaFr7izCRFiBJ4CirmCqLKIt_BhlPqT_n8lQ0-kiD5oLOsA6OoGbCKxYLxeepr-JrYOPQcHC3L9libP70wKxryrkWT_PhdybrhqAZoxjug3NpaYBCpCKa_cynROe30YsAhB6N5WO5GInMHMoL1UUBWniGZ8n9ibf4zkttBoQO\n",
      "https://fsa.zobj.net/crop.php?r=McsB8yAwBZOMt4E8QMj2B2I_XnLqnIWszS_jYx20ah1uwEca0Ct7hkB854XiLp1g2tE8OmpwnoYInG8_6r1YiiA9EiKGA9zVMM2jFvlKkSo5GBEoTdrzvEhMDCnSkYhqG3CdxcOCFOqi6yO4OV5X5T4RdZuTAB5NgAIKnS73KfThIkMSA1SVRAJrVPudfQtMacSh_x3Q8qZLk0XC\n",
      "https://fsa.zobj.net/crop.php?r=mu6-AZe7_7HMd7nOJfIxTd5izjOjDRXw_3d-g6fBAS7EU7FN8ZW7bxy296bSC0NiI3iTLMRvoRDvuRLvy_Hy0Zlk7bGBDvv1vMq794ZexE_AReYy-16cdTsGX864xpmSE8YM9E0BJ8yz0x8TkUZe8a1lnYLUeAPn7rzLSD_TDXf72D3X6cFV-6wp5KSnJbXJvpddYjzUSPSTY4bT\n",
      "https://fsb.zobj.net/crop.php?r=B4ZpbYxtJkEZ3_1ZaCC0Jun8ahjex58uFioR_m0QZHIeI04GAt0MUPf4OdGRkunfafI0UfzPlSc9Tu_3eOx2StHVZ8xEHEBrkAGaFdvF_dkiymwdSnjoWRKny8DgRdt9LQj4WLCT_IVLlVIfKf9j0sk7MAvAGemo1-iM8FAxJO_yM0nvPaEjoHqDo7VpNUQTHc3o4OXeBtKGXL46\n",
      "https://fsb.zobj.net/crop.php?r=XZiTc2OhSsgAL2Tj-nXu-Mib3pmuzSvVrqkRlcqF3pXgvduk63fBQ8CGCcPP3TlNJ9B7bvagkIQImtty6kPgDaT9Lom661TtefiaTZMoxWbT1LHzpighYV_F_31Uo9mXB-D9JNlkeciDJxqgm6RFyLI0VQCTQ2R5feLvR86BQtTKBXsiE7witTMT9RD9-t-_rcU5ieXRHEmSElc1\n",
      "https://fsa.zobj.net/crop.php?r=Wwei5B5Pkaw9tN-Z2bQu79GJG_RUycxwVJDP1rTZs5VtxwJ2FO9QtijfYjQRyb1UMIg607B94KEkudfy3-FPYp6n0SRP74riTmpme64hbyhBw5zU1u2iorzvgW0S0TtzTr36nk2W9eUHDXc5KPbAp7JKIvuoJb2Y9M9ckMdxjMNjqOcttNtmmXE1ISLB2MOrKqtW6BIJXVX4eLGz\n",
      "https://fsb.zobj.net/crop.php?r=XkAbOveN34aNezl-72jIBnGW1RWZerOobOPRnTBLVh_tp7RUnLwqtS53Yv1vxpSx1LCXBb5opdaGEQZnS-nRiqLjrC-cDpK2bX-n9q1XJJZIwDt5OoTJqYOu9pW-aKNsQLEXNIE_Qh8q0LT-EzP7o6eq5djSb4YXTfcqEU4QRNLSPL9x3gTz2gbclLKgOLndLjUf9QzZEbt7QVJg\n",
      "https://fsa.zobj.net/crop.php?r=9vG2K_YI2n9NMmmOrvlj0R5soT8hU3gTtIGmQwvseb-CAACKNEf4fUafQypX6CjlEPmgIn5P5V-OwPHio3pMM8rAAlklEv8FPJVWzmOYIFJPHtKytPQ8lZ8kkgA5CoIPZ8M0OVECsngh3NJ4PFxckSnG_v9r0uEunRsD05SLJwyOUouen2nCgT4fc_mM9pfs54ASLlptMEVbAgcv\n",
      "https://fsa.zobj.net/crop.php?r=fod-9EbMRhl6Mp18f-LH4wQAEtPm8SFpGr5MiXHYlWvjxbs23IdQfmDRAeVmkqd3Qryx1WgAet89ByjEi4FQRUGS4qczgvjTNqWkD4o4_T6osz2eZmywiYDgHc_iweAu555nJ0iVfVyBxRvm37iHV_BwmqibvEgHK7b7cfS9Vm-5uje-BH_bunlYY-Q1BUHkr0HkNXfifsWKKrTB\n",
      "https://fsb.zobj.net/crop.php?r=MBd5dhr2EFt2GbYpRdmk90AiNcF7Y55MnHbt7e4VW8c0Q7enQSjmtOLid8VMpNUOT7_HOjAH6lFzrKsoqKKtxJcDJ2Ok3dUclocsZwAHfF1uPY1n6fLH5v3T_gwD_kOivKTPb7XDGRgJDPQAop39-zXs14_Np36oB-4IE3Wfc1DZTD6mNsVl3Fd94RcZsm0BnuFb5sFO5AJZ2FbD\n"
     ]
    },
    {
     "name": "stdout",
     "output_type": "stream",
     "text": [
      "https://fsb.zobj.net/crop.php?r=iFgKD6BN19eNQ4kAK6YTZJVxBGMMy1fxQkofE6ISuMT0mKmlFd1NRGctwtMcF7IJd9HCOWcAZuEPin9_Vr2D1LhpWWLQxakri22OcbRUwjMK581D07juOS5aytAifmjZLE6DOq36fqv--xbz56MvTHLSBefFNtaElKV59iNEv0hfsWqSKRYXdusUX4l7tbJ5D2tABB607SYlsceB\n",
      "https://fsa.zobj.net/crop.php?r=1275TtWfV4sNTo-V4-YUAw2DaInTecflwdAjqEC79A3aHyfDdvSJlIyDvND-A2Q1M_-QLKRYotsfNKmOna2AjHcuXHY8rRuioxYXUgCSeacgziticjotLfHVEUY0sBhYLV500qoAI2qMtE81N_8PtuoadoLKJG4Y53dk3OkwrITPAOVf8Qfc2HIrrNzYSFQHO0GSMjZeyGjo1_0p\n",
      "https://fsa.zobj.net/crop.php?r=zwBlYZKaTiahJTdBgFL8Pcu4Ue7-97FMwVKhxFBuQHoRp2iCqBkFPW6H9z18UP8FV-ajipdbyopDnfm8J9VjSkA5O7WRV8a72HnddeEJVjZGmlQ5677rYBjyjzk592wPnbiNP92v6V3l1Dwy3ZOIrqXtTQEdKkpsefueBO-nuUO_k5rtpq6vzdCsGq_Tgj4X4GEREmAf8klnvdgV\n",
      "https://fsa.zobj.net/crop.php?r=Yd1Bizg_RxWlKeh_IHHiu8He_oKdUbkwRu9vVJZBMvL54phtwY9nmQ2GLvMagsXHh4n0EOce7kGHljGbXNk9BdLuJzbwQ_HqZrIij3I84Eyx7_54RS_hirGtYuBNREHTxkteR0Acph260WnU5Ud9enDUDUSjbMOTt18JotlE9dbLWiflRcssHOw-DjVkwP55K0UDrDJ0aECa56Nt\n",
      "https://fsb.zobj.net/crop.php?r=tjfmZx2BRuoI19zerUMQ4oKktJROeu5V6_bcR5GHChxeKTsJM8fTmOA4gxlpGo-Ga6qfeB1JZSPHwWVx1TS8mMw5rM2IW4qVztICmh-74WsWXfe2Mu9BFBzLHDOJ4GhAPvhSp3gNiBJ6Bbwkm1iVXRBP-1uT82VkTy4VVvYioztED4CZ9T6HRAVAOhZS4fDrlCU1TR7zsIl8jer5\n",
      "https://fsa.zobj.net/crop.php?r=Wn6oKxWeh_ICSyD2tJnZ5iWJUvJ-E4J1fGSMcyLUrVT2D4K8wacRidxU1o-XX2z1CdkQGG9zdhOm9JaPdKI8pwWP2XohurkZmn6xotyI_VVE7jXzENf5d3xm6KLAcAzOhb9t-8ikrctdQtEf2s4J4Zt4k8yt2LOKV014UF79r7ruS1O3p3P_7KMB1xYFg0E7m0VcjWEqSjuSRNII\n",
      "https://fsb.zobj.net/crop.php?r=JOnE2H8qWozK3j4zaFaVnX2UHh8d-X-fU7wLPGbVnKM6p0EOFdkZfRi3BGeeYKbLjxZWzjkUXBXhjJLkRKND4QPljV4yiyYKfboTeanTH97AR-6dt35RflAfrqRrcU66PEUGKe-0lyrk9vN-RlpOaRIfBEd1fX9LfODTHhHW1bMvnhcPn_rPUmWeojA\n",
      "https://fsa.zobj.net/crop.php?r=7aR0FsgH2yBgcZf3LjD7wkeNYROyq99bcBU1hb2HnIIwMVibVc1Bj6jovq3EDE5giAm-und8Zq8P-a3HpA3LcLagO9NFC8ljL-eXqK9oabBpEj1n-APAQCBxTgWDTJtaPdrVCYzIg8Q_VrXiP2I5C0YlP-fi3zrmLBnjOTH8ygkUoGgTdD2bpw6CCINEPuiRJT5hjlRGGmbfnTpL\n",
      "https://fsb.zobj.net/crop.php?r=riPqlH7XUm-BhDJ89PnjkMBawyBnF-j7vqSzkYxgp7EhgmuEuzYOM9v0hGvy_fCVLiv1o8HxavJFfPEvGqCDFBK7aFxATGZ53iChQiHCGa-N1nJMhWe1-zLofWCHHE0eppdOydUY0cbLFCwZh0fHZ60TkLNGha6tEArsDGfUdwiHNiqy4MoCIufp9BOqjJ-ACeOWjoFs0MMOHduR\n",
      "https://fsa.zobj.net/crop.php?r=7SwS9sNoX9yerkkavdG320lGYIa6LY94HIhegLOep10HqKjeule3Ubvyq61ae_sUP9R34xCch4a7FF3IAtGg9pwjvfNDo3rBAs8AaswJjjEZ-OB-9K7Ie1alHblFlP0LUMv5z5xu0Sz54MiEvBvkFIym2FSFr7tg66fxqSFl2DUsErCcKKBzTKVzGzfyjXwQ6g5fFRuNs_puBiD2\n",
      "https://fsb.zobj.net/crop.php?r=JjjZggHJkp-HL56rr_M0uxKzIqyixztGR0oO0mM9bD8uUBwg4vFCCGugFRI_X96uK71VMH-tVSSPd9E1VIWw0FLB_78unIsuOQvLIgkVi9sC5s01P-U5SYIg6zBkG6ttSvL2ooh1MwiUkaecckCtu2rmlv48OfV0WvaZ1nZjj4rqvAF0zOX5U2ujnWvqSq-ghLij8D0_DgM5LiAZ\n",
      "https://fsa.zobj.net/crop.php?r=Kqp9vPKqhXW1n3zaPtGsl6nfRjkmc7ihqwYspmg2wk5o8Sp7tx8xgpeluRARtvwxn4SoAbrHpUniJHAVsE-iiyMmLe-HScAEX5ru1ADjz2VoVA-cnBnyrA_xU1djNHtw7MxKcrI33w3c8Yus7Qkty13nDetRqXTsfn8xkO1opelH4zUB8ZibOY0Yo9tnH1_g0MGv2B_OLqAjiPqL\n",
      "https://fsb.zobj.net/crop.php?r=Xa36mOeLNgdhYUBgXWU4lqmFt_DfubF5jdVkVDWt5sXz6NH4_xlyn-sCLfunORbHI-LoTzx5dII3MXFG6r7NshCPFTDSla5nXq6rIG7eNs-Yd_rLRaV7b6sb6Rm0QpjdsEvRb209d1OQ8jdyGdZ5Gq7nmy6FlCEfbz5V7IhlYvTq9RZ18V82vOhIbSzFB6LCukx-VB6Z2NO4MAI6\n",
      "https://fsb.zobj.net/crop.php?r=HYJ9JAeh3uiGgRuSlgTOdqM-jGy731CyRf3pXFt_BxORbzxiLpKlbYw-67mzFdliYQ75dceEXEAPs4e2YYjgx3Eh5hB5FYDEBC3karGFG5FJk5tCKk9yxQr5e6Kk1o0pNlkdzL29Hlx8L2pzfFtGsGTNiHwxqs81PvKM3vOOU1uRyXsAu8EIT7pUxJoA9H0XnkJIrhC1mZp6AnHo\n",
      "https://fsb.zobj.net/crop.php?r=uWEFqBqZ3R1KO_ECm6W0n81i8tanhpi4HDva3Rpko8u2xc1Wxsno2wLWZMUx9NKLVndTU0XIoj7Dsse4G8f86MB2NO2T2FzNrI6zRCXtlEeTYc210wIS-4ZLSbnymSWSNw99kiRy1GIjr-PQFkVKzaRr4W8g1S3oEqoxFOnUgZr0StYxj4WPHDmhseEK18U2Atp4Gb-1KqmfRHmu\n",
      "https://fsa.zobj.net/crop.php?r=lNDgKStpNaOnilOjoLmsFghu6rkjx7EG4MMMoHsC2jcZITttb-vyt-GRLgaqFUo4AbHOK2iolWClm31zZcJp-25SJVVcoAjRi4uMa4Vhsv38InKjKB3RReuFtTRf460XOiVMZ6RYpjnPrjvScnu67mvV9snStQiclzlyswmsQ_FGaNzDWfhAk4NVVFC6-pPh1E_6qtgeQbiMTmVb\n",
      "https://fsa.zobj.net/crop.php?r=qaul1NlZXoqQq_mrDBu3A_yTIOyw46pzke5fwyXedJrlt2acIi-CnFTTDWXX6C-3HSzdsOrQBgLpbZCGT22bnDJjC84UG--q6mM1Jo9WzIh2zx6VhuLoXKn1Tf8Aw2ePK5EPsSuxpusa3hSmvyee4IIR8KZf7MJO6smJBBpfUgtKRscM_PXBa-l5iuC8m2l3Xj4Zueug5wfFB5Ec\n",
      "https://fsa.zobj.net/crop.php?r=uhz9GiJUqHA9rrbcu4dcplVzjVRUriyG28-fE6agjr1Y0l9pEKNkb9AWBEmUxU0THVm8POLooW_j4gMj_ibJwBzq2PsRpH7aB0NyRmusWlzbC-308WmrurFYY5zXtbxlLTAqNfsTEYm8Cs_DndC1zjE7ZJhk3Cz6_iWWzBR0LulYwcti14Oh2Racjq2BjZYpnYo3WKiojmqA01uk\n",
      "https://fsa.zobj.net/crop.php?r=dVz7jniqsNiTJBw26QzR-9fF2CUScs1CZGNrlQdQi34wSQhZSUw8Ic0UGjE_cgGBpK4F14v6KlBeoCPaFfiiMdxRM55Z8YCvTTa_8V_quAY8yZ0CAtGE7Di3Fzf2B6q5Ea6shI8QaA7yWb3oUBqYNoOceNRu6xveyrg6N3ViARS5dGkdYrlD0TyULXiWdNiBr-I56YCT9V3IM-Rk\n",
      "https://fsa.zobj.net/crop.php?r=gdcQNqqPG6-mz0XEOFlsu5xCCvUn4efZKdg1SsG9qDmdpGI2tmL25AgQHQf-ut0_crmRobnj5l9R5gcKLCB2fx3-tggFT-hqAEDLVCfa7MHvt1xK-lCa1COJFESBkNBrHZWRIv6p-uynHsxVjBYuwyeiI8u5fHWdfUMPrDzsV_EVfq-iRfJGzLgyIikjpFGB1bFXXKEmkf0gXM3I\n",
      "https://fsa.zobj.net/crop.php?r=ZUlKnwOhKdLAi_D-YquPk0QmakCnv1CZBLXXDUq1TNc9Ouk4n1yhwL-x9KArkbZmsOmBDJQCJsFyrZc0KNg8RwQx9Edy4m1mKTMewUW5vC4Iwo5aE1nSagR8fBcC11loyGiCyT0Xx-6tmz54tC2XEPjvhwOz6q0xFAZLldETXaHvGp4dJEzCkCVIz3McYsvsn_uar8znGZbrh_rd\n",
      "https://fsb.zobj.net/crop.php?r=0kFYKhCjAkq1Yb2HRzhNKLd6sO8aOWsEfa5eBKqkaW2hZa1LWz4Mr-iRiW8PHSV-x58Pw8SJqkw4b6sejItqll0-g1C5URo6mAYNfpuqsnjIaWhkL8Wx56sGa2g2EodswqkwcrEw3EKMo1kVpBmMxHBQ1q0MXxpRM6AKD9PfhuVs9-UHqDZzmGpRavRFiJPIf64k_w0tK9-N8vm2\n"
     ]
    }
   ],
   "source": [
    "\n",
    "image_url = []\n",
    "count = 1\n",
    "for i in url :\n",
    "    image_content = requests.get(i)\n",
    "    \n",
    "#     print(i)\n",
    "    \n",
    "    string = str(image_content.text)\n",
    "    p = string.split(\"imageUrl\")[1].split(',')[0]\n",
    "    #print(p)\n",
    "    q = p[3:len(p)-1]\n",
    "    print(q)\n",
    "    image_url.append(q)\n",
    "\n"
   ]
  },
  {
   "cell_type": "code",
   "execution_count": 6,
   "metadata": {},
   "outputs": [],
   "source": [
    "count = 1\n",
    "for i in image_url:\n",
    "    #print(i)\n",
    "    x =requests.get(i).content\n",
    "    #print(i)\n",
    "    \n",
    "    f = open(os.path.join(\"abc\", 'zedge' + str(count) + \"_\" + \".jpg\"), 'wb')#using python to read and write in the file \n",
    "    f.write(x)\n",
    "    f.close()\n",
    "    count += 1\n",
    "    "
   ]
  },
  {
   "cell_type": "code",
   "execution_count": 84,
   "metadata": {},
   "outputs": [],
   "source": [
    "url = x.split(\"imageUrl\")[1].split(',')[0]"
   ]
  },
  {
   "cell_type": "code",
   "execution_count": 85,
   "metadata": {},
   "outputs": [],
   "source": [
    "urls = url[3:len(url)-1]"
   ]
  },
  {
   "cell_type": "code",
   "execution_count": 86,
   "metadata": {},
   "outputs": [],
   "source": [
    "image_content =requests.get(urls).content"
   ]
  },
  {
   "cell_type": "code",
   "execution_count": 87,
   "metadata": {},
   "outputs": [],
   "source": [
    "f = open(os.path.join(\"xyz\", 'a' + \"_\" + \".jpg\"), 'wb')#using python to read and write in the file \n",
    "               \n",
    "f.write(image_content)\n",
    "f.close()"
   ]
  },
  {
   "cell_type": "code",
   "execution_count": null,
   "metadata": {},
   "outputs": [],
   "source": []
  }
 ],
 "metadata": {
  "kernelspec": {
   "display_name": "Python 3",
   "language": "python",
   "name": "python3"
  },
  "language_info": {
   "codemirror_mode": {
    "name": "ipython",
    "version": 3
   },
   "file_extension": ".py",
   "mimetype": "text/x-python",
   "name": "python",
   "nbconvert_exporter": "python",
   "pygments_lexer": "ipython3",
   "version": "3.7.6"
  }
 },
 "nbformat": 4,
 "nbformat_minor": 4
}
